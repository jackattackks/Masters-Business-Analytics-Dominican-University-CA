{
 "cells": [
  {
   "cell_type": "markdown",
   "id": "57714a8d",
   "metadata": {},
   "source": [
    "### Problem 5 (optional)\n",
    "\n",
    "We discussed that a function can call itself, and computer scientists use this to write \n",
    "fast programs by using the strategy of \"divide and conquar\".\n",
    "\n",
    "When we have a block of text, say the Kenneday Inaugural Address (in Problem 2), we want \n",
    "to search for the presence of a specific word.  For example, \"good\" was used in the \n",
    "address while \"bad\" was not. For now, we don\\'t care how many times a word appears, \n",
    "and the funtion returns just True or False. A very fast algorithm is useful when we want \n",
    "to search a word from say all published news.\n",
    "\n",
    "Write a function that takes a list of words, and it splits the list into two smaller lists.\n",
    "If the list has only one element, it returns True if the word is what we look for and \n",
    "False if it is not; otherwise it only returns the combination (logical \"or\") of the \n",
    "results of left sublist or right sublist."
   ]
  },
  {
   "cell_type": "code",
   "execution_count": 4,
   "id": "d82e6ca6",
   "metadata": {},
   "outputs": [],
   "source": [
    "kennedy_inaugural=\"Vice President Johnson, Mr. Speaker, Mr. Chief Justice, President Eisenhower, Vice President Nixon, President Truman, Reverend Clergy, fellow citizens: \\\n",
    "We observe today not a victory of party but a celebration of freedom--symbolizing an end as well as a beginning--signifying renewal as well as change. For I have sworn before you and Almighty God the same solemn oath our forbears prescribed nearly a century and three-quarters ago.\\\n",
    "The world is very different now. For man holds in his mortal hands the power to abolish all forms of human poverty and all forms of human life. And yet the same revolutionary beliefs for which our forebears fought are still at issue around the globe--the belief that the rights of man come not from the generosity of the state but from the hand of God.\\\n",
    "We dare not forget today that we are the heirs of that first revolution. Let the word go forth from this time and place, to friend and foe alike, that the torch has been passed to a new generation of Americans--born in this century, tempered by war, disciplined by a hard and bitter peace, proud of our ancient heritage--and unwilling to witness or permit the slow undoing of those human rights to which this nation has always been committed, and to which we are committed today at home and around the world.\\\n",
    "Let every nation know, whether it wishes us well or ill, that we shall pay any price, bear any burden, meet any hardship, support any friend, oppose any foe to assure the survival and the success of liberty.\\\n",
    "This much we pledge--and more.\\\n",
    "To those old allies whose cultural and spiritual origins we share, we pledge the loyalty of faithful friends. United there is little we cannot do in a host of cooperative ventures. Divided there is little we can do--for we dare not meet a powerful challenge at odds and split asunder.\\\n",
    "To those new states whom we welcome to the ranks of the free, we pledge our word that one form of colonial control shall not have passed away merely to be replaced by a far more iron tyranny. We shall not always expect to find them supporting our view. But we shall always hope to find them strongly supporting their own freedom--and to remember that, in the past, those who foolishly sought power by riding the back of the tiger ended up inside.\\\n",
    "To those people in the huts and villages of half the globe struggling to break the bonds of mass misery, we pledge our best efforts to help them help themselves, for whatever period is required--not because the communists may be doing it, not because we seek their votes, but because it is right. If a free society cannot help the many who are poor, it cannot save the few who are rich.\\\n",
    "To our sister republics south of our border, we offer a special pledge--to convert our good words into good deeds--in a new alliance for progress--to assist free men and free governments in casting off the chains of poverty. But this peaceful revolution of hope cannot become the prey of hostile powers. Let all our neighbors know that we shall join with them to oppose aggression or subversion anywhere in the Americas. And let every other power know that this Hemisphere intends to remain the master of its own house.\\\n",
    "To that world assembly of sovereign states, the United Nations, our last best hope in an age where the instruments of war have far outpaced the instruments of peace, we renew our pledge of support--to prevent it from becoming merely a forum for invective--to strengthen its shield of the new and the weak--and to enlarge the area in which its writ may run.\\\n",
    "Finally, to those nations who would make themselves our adversary, we offer not a pledge but a request: that both sides begin anew the quest for peace, before the dark powers of destruction unleashed by science engulf all humanity in planned or accidental self-destruction.\\\n",
    "We dare not tempt them with weakness. For only when our arms are sufficient beyond doubt can we be certain beyond doubt that they will never be employed.\\\n",
    "But neither can two great and powerful groups of nations take comfort from our present course--both sides overburdened by the cost of modern weapons, both rightly alarmed by the steady spread of the deadly atom, yet both racing to alter that uncertain balance of terror that stays the hand of mankind's final war.\\\n",
    "So let us begin anew--remembering on both sides that civility is not a sign of weakness, and sincerity is always subject to proof. Let us never negotiate out of fear. But let us never fear to negotiate.\\\n",
    "Let both sides explore what problems unite us instead of belaboring those problems which divide us.\\\n",
    "Let both sides, for the first time, formulate serious and precise proposals for the inspection and control of arms--and bring the absolute power to destroy other nations under the absolute control of all nations.\\\n",
    "Let both sides seek to invoke the wonders of science instead of its terrors. Together let us explore the stars, conquer the deserts, eradicate disease, tap the ocean depths and encourage the arts and commerce.\\\n",
    "Let both sides unite to heed in all corners of the earth the command of Isaiah--to 'undo the heavy burdens . . . (and) let the oppressed go free.'\\\n",
    "And if a beachhead of cooperation may push back the jungle of suspicion, let both sides join in creating a new endeavor, not a new balance of power,\\\n",
    "but a new world of law, where the strong are just and the weak secure and the peace preserved.\\\n",
    "All this will not be finished in the first one hundred days. Nor will it be finished in the first one thousand days, nor in the life of this Administration, nor even perhaps in our lifetime on this planet. But let us begin.\\\n",
    "In your hands, my fellow citizens, more than mine, will rest the final success or failure of our course. Since this country was founded, each generation of Americans has been summoned to give testimony to its national loyalty. The graves of young Americans who answered the call to service surround the globe.\\\n",
    "Now the trumpet summons us again--not as a call to bear arms, though arms we need--not as a call to battle, though embattled we are-- but a call to bear the burden of a long twilight struggle, year in and year out, 'rejoicing in hope, patient in tribulation'--a struggle against the common enemies of man: tyranny, poverty, disease and war itself.\\\n",
    "Can we forge against these enemies a grand and global alliance, North and South, East and West, that can assure a more fruitful life for all mankind? Will you join in that historic effort?\\\n",
    "In the long history of the world, only a few generations have been granted the role of defending freedom in its hour of maximum danger. I do not shrink from this responsibility--I welcome it. I do not believe that any of us would exchange places with any other people or any other generation. The energy, the faith, the devotion which we bring to this endeavor will light our country and all who serve it--and the glow from that fire can truly light the world.\\\n",
    "And so, my fellow Americans: ask not what your country can do for you--ask what you can do for your country.\\\n",
    "My fellow citizens of the world: ask not what America will do for you, but what together we can do for the freedom of man.\\\n",
    "Finally, whether you are citizens of America or citizens of the world, ask of us here the same high standards of strength and sacrifice which we ask of you. With a good conscience our only sure reward, with history the final judge of our deeds, let us go forth to lead the land we love, asking His blessing and His help, but knowing that here on earth God's work must truly be our own.\""
   ]
  },
  {
   "cell_type": "code",
   "execution_count": 5,
   "id": "bad08aba",
   "metadata": {},
   "outputs": [],
   "source": [
    "def findWord(wordList, word):\n",
    "    if len(wordList) == 1:\n",
    "        if wordList[0]==word:\n",
    "            return True\n",
    "        else:\n",
    "            return False\n",
    "    else:\n",
    "        mdid = len(wordList)/2\n",
    "        return findWord(wordList[:mdid],word)or findWord(wordList[mdid:],word)\n",
    "    "
   ]
  },
  {
   "cell_type": "code",
   "execution_count": 6,
   "id": "7ca49033",
   "metadata": {},
   "outputs": [],
   "source": [
    "def findWord(wordList, word):\n",
    "    if len(wordList) == 1:\n",
    "        if wordList[0]==word:\n",
    "            return True\n",
    "        else:\n",
    "            return False\n",
    "    else:\n",
    "        mdid = len(wordList)//2\n",
    "        return findWord(wordList[:mdid],word)+ findWord(wordList[mdid:],word)"
   ]
  },
  {
   "cell_type": "code",
   "execution_count": 7,
   "id": "4802bb39",
   "metadata": {},
   "outputs": [],
   "source": [
    "import re\n",
    "kaword = re.split(\"\\,|\\s|\\.|\\?|\\&|\\\"|\\-|\\'\",kennedy_inaugural.strip().lower())\n",
    "# kaword = kaword + [\"short\"]"
   ]
  },
  {
   "cell_type": "code",
   "execution_count": 8,
   "id": "0b708736",
   "metadata": {},
   "outputs": [
    {
     "data": {
      "text/plain": [
       "list"
      ]
     },
     "execution_count": 8,
     "metadata": {},
     "output_type": "execute_result"
    }
   ],
   "source": [
    "type(kaword)"
   ]
  },
  {
   "cell_type": "code",
   "execution_count": 9,
   "id": "66cb1bcf",
   "metadata": {},
   "outputs": [
    {
     "name": "stdout",
     "output_type": "stream",
     "text": [
      "1505\n"
     ]
    },
    {
     "data": {
      "text/plain": [
       "2"
      ]
     },
     "execution_count": 9,
     "metadata": {},
     "output_type": "execute_result"
    }
   ],
   "source": [
    "print(len(kaword))\n",
    "findWord(kaword,\"long\")"
   ]
  },
  {
   "cell_type": "code",
   "execution_count": 10,
   "id": "51d896d5",
   "metadata": {},
   "outputs": [
    {
     "data": {
      "text/plain": [
       "2"
      ]
     },
     "execution_count": 10,
     "metadata": {},
     "output_type": "execute_result"
    }
   ],
   "source": [
    "kaword.count(\"long\")"
   ]
  },
  {
   "cell_type": "code",
   "execution_count": 11,
   "id": "8f5d6519",
   "metadata": {},
   "outputs": [
    {
     "data": {
      "text/plain": [
       "0"
      ]
     },
     "execution_count": 11,
     "metadata": {},
     "output_type": "execute_result"
    }
   ],
   "source": [
    "findWord(kaword,\"person\")"
   ]
  },
  {
   "cell_type": "code",
   "execution_count": 12,
   "id": "2b86dc08",
   "metadata": {},
   "outputs": [
    {
     "data": {
      "text/plain": [
       "0"
      ]
     },
     "execution_count": 12,
     "metadata": {},
     "output_type": "execute_result"
    }
   ],
   "source": [
    "kaword.count(\"bad\")"
   ]
  },
  {
   "cell_type": "code",
   "execution_count": null,
   "id": "dfc0b5d6",
   "metadata": {},
   "outputs": [],
   "source": []
  }
 ],
 "metadata": {
  "kernelspec": {
   "display_name": "Python 3 (ipykernel)",
   "language": "python",
   "name": "python3"
  },
  "language_info": {
   "codemirror_mode": {
    "name": "ipython",
    "version": 3
   },
   "file_extension": ".py",
   "mimetype": "text/x-python",
   "name": "python",
   "nbconvert_exporter": "python",
   "pygments_lexer": "ipython3",
   "version": "3.9.12"
  }
 },
 "nbformat": 4,
 "nbformat_minor": 5
}
