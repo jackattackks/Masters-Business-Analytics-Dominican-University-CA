{
 "cells": [
  {
   "cell_type": "markdown",
   "id": "8e88607c",
   "metadata": {},
   "source": [
    "### Problem 4\n",
    "\n",
    "In machine learning, there is a functio called Softmax and it is defined as below:\n",
    "    "
   ]
  },
  {
   "cell_type": "markdown",
   "id": "a9855f31",
   "metadata": {},
   "source": [
    "%%latex\n",
    "\n",
    "Softmax function $$y_k = \\frac{e^{z_k}}{\\sum\\limits_{i=0}^{L-1}e^{z_i}}$$\n",
    "\n",
    "where i = 0,1,2,...,L-1 where L is the length of the list and $z_k$ is the kth item in the list."
   ]
  },
  {
   "cell_type": "markdown",
   "id": "93600f19",
   "metadata": {},
   "source": [
    "1. Write a function that returns a normalized customer profile, meaning the scores for the profile will add to one.\n",
    "2. Given a list below, write a function that returns a list of softmax functions for the input list.  Identify the index of the term with the largest softmax value."
   ]
  },
  {
   "cell_type": "code",
   "execution_count": 2,
   "id": "620b9d6e",
   "metadata": {},
   "outputs": [],
   "source": [
    "import matplotlib.pyplot as plt\n",
    "%matplotlib inline"
   ]
  },
  {
   "cell_type": "code",
   "execution_count": 3,
   "id": "52d3a3ed",
   "metadata": {},
   "outputs": [],
   "source": [
    "customer_profile = [1.5,2.5,3.5,4.5,5.5,6.7]"
   ]
  },
  {
   "cell_type": "code",
   "execution_count": 4,
   "id": "2aed0c18",
   "metadata": {},
   "outputs": [],
   "source": [
    "def normalize(customer_profile):\n",
    "    total = sum(customer_profile)\n",
    "    customer_profile = [x/total for x in customer_profile]\n",
    "    return customer_profile"
   ]
  },
  {
   "cell_type": "code",
   "execution_count": 5,
   "id": "8fc520de",
   "metadata": {},
   "outputs": [
    {
     "data": {
      "text/plain": [
       "[0.06198347107438017,\n",
       " 0.10330578512396695,\n",
       " 0.14462809917355374,\n",
       " 0.18595041322314051,\n",
       " 0.2272727272727273,\n",
       " 0.2768595041322314]"
      ]
     },
     "execution_count": 5,
     "metadata": {},
     "output_type": "execute_result"
    }
   ],
   "source": [
    "normalize(customer_profile)"
   ]
  },
  {
   "cell_type": "code",
   "execution_count": 6,
   "id": "ce4bf335",
   "metadata": {},
   "outputs": [],
   "source": [
    "def softmax(customer_profile):\n",
    "    import math\n",
    "    customer_profile = [math.exp(x) for x in customer_profile]\n",
    "    total = sum(customer_profile)\n",
    "    softmax = [x/total for x in customer_profile]\n",
    "    return softmax"
   ]
  },
  {
   "cell_type": "code",
   "execution_count": 7,
   "id": "0c3fc55a",
   "metadata": {},
   "outputs": [],
   "source": [
    "customer_profile = normalize(customer_profile)"
   ]
  },
  {
   "cell_type": "code",
   "execution_count": 8,
   "id": "058601f6",
   "metadata": {},
   "outputs": [
    {
     "data": {
      "text/plain": [
       "<BarContainer object of 6 artists>"
      ]
     },
     "execution_count": 8,
     "metadata": {},
     "output_type": "execute_result"
    },
    {
     "data": {
      "image/png": "[encoded data removed]",
      "text/plain": [
       "<Figure size 432x288 with 1 Axes>"
      ]
     },
     "metadata": {
      "needs_background": "light"
     },
     "output_type": "display_data"
    }
   ],
   "source": [
    "plt.bar(range(len(customer_profile)), customer_profile)"
   ]
  },
  {
   "cell_type": "code",
   "execution_count": 9,
   "id": "369b6f7e",
   "metadata": {},
   "outputs": [],
   "source": [
    "customer_profile = [1.5,2.5,3.5,4.5,5.5,6.7]\n",
    "customer_profile  = softmax(customer_profile)"
   ]
  },
  {
   "cell_type": "code",
   "execution_count": 10,
   "id": "0337abfb",
   "metadata": {},
   "outputs": [
    {
     "data": {
      "text/plain": [
       "<BarContainer object of 6 artists>"
      ]
     },
     "execution_count": 10,
     "metadata": {},
     "output_type": "execute_result"
    },
    {
     "data": {
      "image/png": "[encoded data removed]",
      "text/plain": [
       "<Figure size 432x288 with 1 Axes>"
      ]
     },
     "metadata": {
      "needs_background": "light"
     },
     "output_type": "display_data"
    }
   ],
   "source": [
    "plt.bar(range(len(customer_profile)), customer_profile)"
   ]
  },
  {
   "cell_type": "markdown",
   "id": "6c1ab12e",
   "metadata": {},
   "source": [
    "Multiply each element of customer profile by a factor of 2 and 5 and recalculate the softmax scores, what pattern do you see?"
   ]
  },
  {
   "cell_type": "code",
   "execution_count": 11,
   "id": "9b8b2424",
   "metadata": {},
   "outputs": [],
   "source": [
    "customer_profile = [1.5,2.5,3.5,4.5,5.5,6.7]\n",
    "customer_profile_times_2 = [x*2 for x in customer_profile] #[1.5,2.5,3.5,4.5,5.5,6.7] # times 2"
   ]
  },
  {
   "cell_type": "code",
   "execution_count": 12,
   "id": "b9964801",
   "metadata": {},
   "outputs": [],
   "source": [
    "customer_profile_times_2  = softmax(customer_profile_times_2)"
   ]
  },
  {
   "cell_type": "code",
   "execution_count": 13,
   "id": "bb4b6e26",
   "metadata": {},
   "outputs": [
    {
     "data": {
      "text/plain": [
       "<BarContainer object of 6 artists>"
      ]
     },
     "execution_count": 13,
     "metadata": {},
     "output_type": "execute_result"
    },
    {
     "data": {
      "image/png": "[encoded data removed]",
      "text/plain": [
       "<Figure size 432x288 with 1 Axes>"
      ]
     },
     "metadata": {
      "needs_background": "light"
     },
     "output_type": "display_data"
    }
   ],
   "source": [
    "plt.bar(range(len(customer_profile_times_2)), customer_profile_times_2)"
   ]
  },
  {
   "cell_type": "code",
   "execution_count": 14,
   "id": "3ac1f2bf",
   "metadata": {},
   "outputs": [
    {
     "data": {
      "text/plain": [
       "<BarContainer object of 6 artists>"
      ]
     },
     "execution_count": 14,
     "metadata": {},
     "output_type": "execute_result"
    },
    {
     "data": {
      "image/png": "[encoded data removed]",
      "text/plain": [
       "<Figure size 432x288 with 1 Axes>"
      ]
     },
     "metadata": {
      "needs_background": "light"
     },
     "output_type": "display_data"
    }
   ],
   "source": [
    "customer_profile = [1.5,2.5,3.5,4.5,5.5,6.7]\n",
    "customer_profile_times_5 = [x*5 for x in customer_profile] #[1.5,2.5,3.5,4.5,5.5,6.7] # times 5\n",
    "customer_profile_times_5  = softmax(customer_profile_times_5)\n",
    "plt.bar(range(len(customer_profile_times_5)), customer_profile_times_5)"
   ]
  },
  {
   "cell_type": "code",
   "execution_count": null,
   "id": "a838037b",
   "metadata": {},
   "outputs": [],
   "source": []
  }
 ],
 "metadata": {
  "kernelspec": {
   "display_name": "Python 3 (ipykernel)",
   "language": "python",
   "name": "python3"
  },
  "language_info": {
   "codemirror_mode": {
    "name": "ipython",
    "version": 3
   },
   "file_extension": ".py",
   "mimetype": "text/x-python",
   "name": "python",
   "nbconvert_exporter": "python",
   "pygments_lexer": "ipython3",
   "version": "3.9.12"
  }
 },
 "nbformat": 4,
 "nbformat_minor": 5
}
