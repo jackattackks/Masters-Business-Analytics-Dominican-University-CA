{
 "cells": [
  {
   "cell_type": "markdown",
   "id": "64bfc661",
   "metadata": {},
   "source": [
    "### Problem 7\n",
    "\n",
    "The formula for predicting BMI Body Mass Index is the following:"
   ]
  },
  {
   "cell_type": "markdown",
   "id": "5a4d30f1",
   "metadata": {},
   "source": [
    "%%latex\n",
    "$$BMI= 18.0 + 1.5*(diet\\:score) + 1.6* (if\\:male) + 4.2 *(if\\:adult) $$"
   ]
  },
  {
   "cell_type": "markdown",
   "id": "b633379b",
   "metadata": {},
   "source": [
    "Write a function that calculates the BMI given diet score, if male is 1, and if adult is greater than 20 is 1.\n",
    "\n",
    "Case A: Input is diet score = 4, female, and age = 23.  What is the BMI?\n",
    "    \n",
    "Case B: Input is diet score = 7, male, and age = 34.  What is the BMI?\n",
    "    \n",
    "Case C: Input is diet score = 6, male, and age = 13.  What is the BMI?\n",
    "    \n",
    "Case D: Input is diet score = 2, female, and age = 14.  What is the BMI?"
   ]
  },
  {
   "cell_type": "code",
   "execution_count": 2,
   "id": "4b0da7e9",
   "metadata": {},
   "outputs": [],
   "source": [
    "def predict(diet, gender, age):\n",
    "    if gender == \"male\":\n",
    "        BMI = 18 + (1.6*diet)\n",
    "    if gender == \"female\":    \n",
    "        BMI = 18 + (1.5*diet)\n",
    "    if age >20:\n",
    "        BMI = 18 + (4.2*diet)    \n",
    "    return BMI"
   ]
  },
  {
   "cell_type": "code",
   "execution_count": null,
   "id": "0be4ba54",
   "metadata": {},
   "outputs": [],
   "source": [
    "predict(4,\"female\",23)"
   ]
  },
  {
   "cell_type": "code",
   "execution_count": null,
   "id": "1f4a8568",
   "metadata": {},
   "outputs": [],
   "source": [
    "predict(7,\"male\",34)"
   ]
  }
 ],
 "metadata": {
  "kernelspec": {
   "display_name": "Python 3 (ipykernel)",
   "language": "python",
   "name": "python3"
  },
  "language_info": {
   "codemirror_mode": {
    "name": "ipython",
    "version": 3
   },
   "file_extension": ".py",
   "mimetype": "text/x-python",
   "name": "python",
   "nbconvert_exporter": "python",
   "pygments_lexer": "ipython3",
   "version": "3.9.12"
  }
 },
 "nbformat": 4,
 "nbformat_minor": 5
}
