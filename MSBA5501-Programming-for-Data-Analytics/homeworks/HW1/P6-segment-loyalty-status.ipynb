{
 "cells": [
  {
   "cell_type": "markdown",
   "id": "8347246e",
   "metadata": {},
   "source": [
    "### Problem 6\n",
    "\n",
    "An ecommerce retailer classifies its customers into the following groups based on the one year purchase ammount.\n",
    "* If customer purchased below \\\\$200, the customer belongs to Segment Budget;\n",
    "* If customer purhcased between \\\\$200-500, the customer belongs to Segment Bronze;\n",
    "* If customer purchased between \\\\$500-1000, the customer belongs to Segment Silver;\n",
    "* If customer purchased more than \\\\$1000, the customer belongs to Segment Gold.\n",
    "\n",
    "Write a function that returns the segment name the customer belongs to."
   ]
  },
  {
   "cell_type": "code",
   "execution_count": 1,
   "id": "ea57eda8",
   "metadata": {},
   "outputs": [],
   "source": [
    "def getSegment(oneYearPur):\n",
    "    if oneYearPur < 200:\n",
    "        segmentName = \"Budget\"\n",
    "    elif 500>oneYearPur>=200:\n",
    "        segmentName = \"Segment Bronze\"\n",
    "    elif 1000>oneYearPur>=500:\n",
    "        segmentName = \"Segment Silver\"\n",
    "    else:\n",
    "        segmentName = \"Segment Gold\"  \n",
    "    return segmentName"
   ]
  },
  {
   "cell_type": "code",
   "execution_count": 2,
   "id": "100ff92b",
   "metadata": {},
   "outputs": [
    {
     "data": {
      "text/plain": [
       "'Segment Silver'"
      ]
     },
     "execution_count": 2,
     "metadata": {},
     "output_type": "execute_result"
    }
   ],
   "source": [
    "getSegment(800)"
   ]
  },
  {
   "cell_type": "code",
   "execution_count": null,
   "id": "baa0c01f",
   "metadata": {},
   "outputs": [],
   "source": []
  }
 ],
 "metadata": {
  "kernelspec": {
   "display_name": "Python 3 (ipykernel)",
   "language": "python",
   "name": "python3"
  },
  "language_info": {
   "codemirror_mode": {
    "name": "ipython",
    "version": 3
   },
   "file_extension": ".py",
   "mimetype": "text/x-python",
   "name": "python",
   "nbconvert_exporter": "python",
   "pygments_lexer": "ipython3",
   "version": "3.9.12"
  }
 },
 "nbformat": 4,
 "nbformat_minor": 5
}
