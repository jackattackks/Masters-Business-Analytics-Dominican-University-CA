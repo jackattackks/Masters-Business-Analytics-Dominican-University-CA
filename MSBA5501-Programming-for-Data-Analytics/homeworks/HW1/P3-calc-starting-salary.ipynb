{
 "cells": [
  {
   "cell_type": "markdown",
   "id": "0fb337e7",
   "metadata": {},
   "source": [
    "### Problem 3\n",
    "\n",
    "A company has an average starting salary of \\\\$60,000. Employees with a high school degree as highest degree\n",
    "have salaries \\\\$4,000 lower than the average, those with Bachelors degree as highest degree have salaries \\\\$12,000 higher. \n",
    "Employees with advanced degrees as highest degree have salaries \\\\$24,000 higher. Each year of experience has an \n",
    "increase by \\\\$500. \n",
    "\n",
    "Write a python function that capture this simple model.\n",
    "\n",
    "Hints: Be careful the meaning of highest degree.  People with both a Bachelors degree and an advanced degree do not earn more than those only having advanced degrees. \n",
    "Think about adding logic so that if more than degree is given, salary only takes into account one degree.\n",
    "    \n",
    "* Employee 1 has 10 years of experience, with a Bachelors degree.  What is his salary?\n",
    "* Employee 2 has 5 years of experience, and an advanced degree. What is her salary?"
   ]
  },
  {
   "cell_type": "code",
   "execution_count": null,
   "id": "aa0f3163",
   "metadata": {},
   "outputs": [],
   "source": [
    "def calculateSalary(year_exp = 0, bachelor = 1, advanced = 0, highschool = 0):\n",
    "    # write code here\n",
    "    average = 60000\n",
    "    if highschool == 1 & bachelor == 0 & advanced == 0:\n",
    "        salary = (average - 4000) + year_exp*500\n",
    "    if bachelor == 1 & highschool == 1  :\n",
    "        salary = average + 12000 + year_exp*500\n",
    "    if bachelor == 1 & highschool == 0  :\n",
    "        salary = average + 12000 + year_exp*500\n",
    "    if advanced == 1:\n",
    "        salary = average+24000 +year_exp*500\n",
    "        \n",
    "    return salary"
   ]
  },
  {
   "cell_type": "code",
   "execution_count": null,
   "id": "3bf35157",
   "metadata": {},
   "outputs": [],
   "source": [
    "employee1 = calculateSalary(10, 1, 0, 1);\n",
    "employee2 = calculateSalary(5, 0, 1, 0);\n",
    "print(employee1)\n",
    "print(employee2)"
   ]
  }
 ],
 "metadata": {
  "kernelspec": {
   "display_name": "Python 3 (ipykernel)",
   "language": "python",
   "name": "python3"
  },
  "language_info": {
   "codemirror_mode": {
    "name": "ipython",
    "version": 3
   },
   "file_extension": ".py",
   "mimetype": "text/x-python",
   "name": "python",
   "nbconvert_exporter": "python",
   "pygments_lexer": "ipython3",
   "version": "3.9.12"
  }
 },
 "nbformat": 4,
 "nbformat_minor": 5
}
