{
 "cells": [
  {
   "cell_type": "markdown",
   "id": "19fd8c86",
   "metadata": {},
   "source": [
    "### Problem 5\n",
    "\n",
    "If a customer makes a series of purchases, say \\\\$35, \\\\$56, \\\\$127, \\\\$25, \\\\$202, in a year, we want to calculate the one year revenue the customer has.\n",
    "Write a function that would sum a series of any number of purchases in a year to give a total dollor amount."
   ]
  },
  {
   "cell_type": "code",
   "execution_count": null,
   "id": "a31518d6",
   "metadata": {},
   "outputs": [],
   "source": [
    "transactions = [35,56,127,25,202]\n",
    "\n",
    "def getOneYearRevenue(transactions):\n",
    "    totalOneYear=(sum(transactions))\n",
    "    return totalOneYear\n",
    "\n",
    "#    another approach\n",
    "#    totalOneYear = 0\n",
    "#    import math\n",
    "#    for index in range(len(transactions)):\n",
    "#            totalOneYear = totalOneYear + transactions[index]\n",
    "#    return totalOneYear\n",
    "\n",
    "getOneYearRevenue(transactions)"
   ]
  }
 ],
 "metadata": {
  "kernelspec": {
   "display_name": "Python 3 (ipykernel)",
   "language": "python",
   "name": "python3"
  },
  "language_info": {
   "codemirror_mode": {
    "name": "ipython",
    "version": 3
   },
   "file_extension": ".py",
   "mimetype": "text/x-python",
   "name": "python",
   "nbconvert_exporter": "python",
   "pygments_lexer": "ipython3",
   "version": "3.9.12"
  }
 },
 "nbformat": 4,
 "nbformat_minor": 5
}
