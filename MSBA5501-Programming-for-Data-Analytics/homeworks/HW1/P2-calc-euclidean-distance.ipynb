{
 "cells": [
  {
   "cell_type": "markdown",
   "id": "4605276b",
   "metadata": {},
   "source": [
    "### Problem 2\n",
    "\n",
    "Often when we compare two products, we estimate the similarity between them in some vector space.  Euclidean distance is one of the distances used.\n",
    "If the distance is large, the two products are less similar, and if the distance is small, the similarity is high.  \n",
    "\n",
    "The following is the definition of Euclidean distance."
   ]
  },
  {
   "cell_type": "markdown",
   "id": "a6b2eb93",
   "metadata": {},
   "source": [
    "%%latex\n",
    "\n",
    "$d(x_1,y_1,z_1, x_2, y_2, z_2) = \\sqrt{(x_1-x_2)^2 + (y_1-y_2)^2 + (z_1-z_2)^2}$"
   ]
  },
  {
   "cell_type": "markdown",
   "id": "22512f28",
   "metadata": {},
   "source": [
    "Write a function that calculates the Euclidean distance in three dimensions.\n",
    "\n",
    "Extend the calculation of the Euclidean distance to between two vectors of any given dimensions.\n",
    "\n",
    "Hint: Use list, and the len(list) as dimension and use a for loop.  Check the two vectors for having the same dimension."
   ]
  },
  {
   "cell_type": "code",
   "execution_count": null,
   "id": "c8d287c1",
   "metadata": {},
   "outputs": [],
   "source": [
    "product1 = [2,3,4]; product2 = [2,3,5]\n",
    "\n",
    "def calcEuclidean(product1, product2):\n",
    "    import math\n",
    "# change code below\n",
    "    if len(product1) != len(product2):\n",
    "        print(\"Error. Your lists are not the same size.\")\n",
    "    else:\n",
    "        dist=[]\n",
    "        for i in range(len(product2 and product1)):\n",
    "            dist.append((product1[i]-product2[i])**2)\n",
    "        dist=sum(dist)\n",
    "        dist = math.sqrt(dist)\n",
    "        return dist\n",
    "\n",
    "calcEuclidean(product1, product2)"
   ]
  },
  {
   "cell_type": "code",
   "execution_count": null,
   "id": "a2223001",
   "metadata": {},
   "outputs": [],
   "source": [
    "product1 = [2,3,4,8,12]; product2 = [2,3,5,13,40]"
   ]
  },
  {
   "cell_type": "code",
   "execution_count": null,
   "id": "17628e16",
   "metadata": {},
   "outputs": [],
   "source": [
    "calcEuclidean(product1, product2)"
   ]
  }
 ],
 "metadata": {
  "kernelspec": {
   "display_name": "Python 3 (ipykernel)",
   "language": "python",
   "name": "python3"
  },
  "language_info": {
   "codemirror_mode": {
    "name": "ipython",
    "version": 3
   },
   "file_extension": ".py",
   "mimetype": "text/x-python",
   "name": "python",
   "nbconvert_exporter": "python",
   "pygments_lexer": "ipython3",
   "version": "3.9.12"
  }
 },
 "nbformat": 4,
 "nbformat_minor": 5
}
