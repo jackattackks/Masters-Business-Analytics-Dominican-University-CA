{
 "cells": [
  {
   "cell_type": "markdown",
   "id": "d89c1acd",
   "metadata": {},
   "source": [
    "### Problem 4\n",
    "\n",
    "An online retailer has product descriptions such as this:\n",
    "\n",
    "\"These Ultimate blue suit separates from Ryan Seacrest Distinction™ redefine work-ready style and comfort with their modern streamlined tailoring. Their non-iron stretch design keep your look crisp and ready-for-anything at the office through the weekend. Modern-Fit - Cut with a narrower point-to-point shoulder measurement; higher armholes and trimmer through the chest and leg. Select specific item for details. Featured on our Spring It List. Created for Macy's. Imported. Savings Based On Offering Prices, Not Actual Sales\"\n",
    "\n",
    "Write a function with product description as input and return a list of words the description contains, \n",
    "in lower case, remove punctuations and \"-\", sort the words and remove empty words.\n",
    "\n",
    "Hints: Use import re and re.split function.  The return object is a list of words. For space use \\\\s, for any punctuation, use \\\\, or \\\\., etc.\n",
    "For using multiple splitting delimiters, use '\\s|\\.|\\,', etc. separated by pipe symbol, \"|\".\n",
    "\n",
    "* How many words are there in this description?"
   ]
  },
  {
   "cell_type": "code",
   "execution_count": 1,
   "id": "b23c8cd8",
   "metadata": {},
   "outputs": [],
   "source": [
    "myProductDescription=\"These Ultimate blue suit separates from Ryan Seacrest Distinction™ \\\n",
    "redefine work-ready style and comfort with their modern streamlined tailoring. \\\n",
    "Their non-iron stretch design keep your look crisp and ready-for-anything at the office \\\n",
    "through the weekend. Modern-Fit - Cut with a narrower point-to-point shoulder measurement; \\\n",
    "higher armholes and trimmer through the chest and leg. Select specific item for details. \\\n",
    "Featured on our Spring It List. Created for Macy's. Imported. Savings Based On Offering Prices, \\\n",
    "Not Actual Sales\""
   ]
  },
  {
   "cell_type": "code",
   "execution_count": 2,
   "id": "7d55aa19",
   "metadata": {},
   "outputs": [],
   "source": [
    "def getWords(myProductDescription):\n",
    "    import re\n",
    "    Words=re.split(r'\\s|\\,|\\.|\\-',myProductDescription)\n",
    "    myWords=[]\n",
    "    for i in range(len(Words)):\n",
    "        if Words[i] != \"\":\n",
    "            word = Words[i].lower()\n",
    "            myWords.append(word)\n",
    "    myWords.sort()\n",
    "    return myWords"
   ]
  },
  {
   "cell_type": "code",
   "execution_count": 3,
   "id": "c2c00620",
   "metadata": {},
   "outputs": [],
   "source": [
    "myWords = getWords(myProductDescription)"
   ]
  },
  {
   "cell_type": "code",
   "execution_count": 4,
   "id": "b3fc3d2d",
   "metadata": {},
   "outputs": [
    {
     "data": {
      "text/plain": [
       "82"
      ]
     },
     "execution_count": 4,
     "metadata": {},
     "output_type": "execute_result"
    }
   ],
   "source": [
    "len(myWords)"
   ]
  },
  {
   "cell_type": "code",
   "execution_count": null,
   "id": "cd046361",
   "metadata": {},
   "outputs": [],
   "source": []
  }
 ],
 "metadata": {
  "kernelspec": {
   "display_name": "Python 3 (ipykernel)",
   "language": "python",
   "name": "python3"
  },
  "language_info": {
   "codemirror_mode": {
    "name": "ipython",
    "version": 3
   },
   "file_extension": ".py",
   "mimetype": "text/x-python",
   "name": "python",
   "nbconvert_exporter": "python",
   "pygments_lexer": "ipython3",
   "version": "3.9.12"
  }
 },
 "nbformat": 4,
 "nbformat_minor": 5
}
