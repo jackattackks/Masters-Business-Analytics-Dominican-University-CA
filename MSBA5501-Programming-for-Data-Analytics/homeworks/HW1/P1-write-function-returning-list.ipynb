{
 "cells": [
  {
   "cell_type": "markdown",
   "id": "7afc80ee",
   "metadata": {},
   "source": [
    "##### Homework Week 1, Python for Data Analysis\n",
    "\n",
    "## Due September 5, 2022, 11:59PM\n",
    "\n",
    "Work with your group, divide up the work, work together,discuss with each other, but everyone is responsible for all the work and is able to explain the work. \n",
    "One study group turns in one homework in the format of Jupyter Notebook.  The code should run.  I will do a \"Run All\".\n",
    "\n",
    "Each problem is a short program.  Discuss and think through how you translate the formulas into code, what input is given and what requirements of output are.\n",
    "It is a number or a list of numbers or list of words?\n",
    "\n",
    "Read each line of instructions carefully.  Don't misinterpret the requirements.\n",
    "\n",
    "\n",
    "### Problem 1\n",
    "\n",
    "In machine learning, we often score customers on propensity of a purchase from very negative to very positive. It is often to use a logit function to tranform a customer score into a probability between 0 and 1.\n",
    "\n",
    "Given a vector of numbers ranging from a large negative number to a large positive number, write a function that returns a vector of values of logit function corresponding to the input vector.\n",
    "\n",
    "The input is a list and is given.  The function should return a list.  At the end, a code is given to make an x-y plot.\n",
    "\n",
    "The input list is the x values, while what the logitFunction calculates is the y-values."
   ]
  },
  {
   "cell_type": "markdown",
   "id": "bc036e5e",
   "metadata": {},
   "source": [
    "%%latex\n",
    "\n",
    "$logit(x) = \\frac{1}{1 + e^{-x}}$"
   ]
  },
  {
   "cell_type": "code",
   "execution_count": null,
   "id": "7b9d95d4",
   "metadata": {},
   "outputs": [],
   "source": [
    "customer_score = [(x-50)/5 for x in range(100)]\n",
    "customer_score  # Try uncomment by removing the \"#\" at the beginning \n",
    "                  #of this line to see what the input is like."
   ]
  },
  {
   "cell_type": "code",
   "execution_count": null,
   "id": "86827da8",
   "metadata": {},
   "outputs": [],
   "source": [
    "def logitFunct(customer_score):\n",
    "    import math\n",
    "    # we can do this in one line\n",
    "    # for value in customer_score:\n",
    "        #logit.append(1/(1+math.exp(-value)))\n",
    "    logit = [(1/(1+math.exp(-value)))for value in customer_score] \n",
    "    \n",
    "    #second approach\n",
    "    #logit = []\n",
    "    #for x in customer_score:\n",
    "    #    n = math.exp(-x)\n",
    "    #    y = 1/(1+n)\n",
    "    #    logit.append(y)\n",
    "    return logit"
   ]
  },
  {
   "cell_type": "code",
   "execution_count": null,
   "id": "ffc0be74",
   "metadata": {},
   "outputs": [],
   "source": [
    "logit = logitFunct(customer_score)\n",
    "logit"
   ]
  },
  {
   "cell_type": "markdown",
   "id": "ed822402",
   "metadata": {},
   "source": [
    "The following code will plot a logit function with a sigmoidal shape from 0 on the left to 1 on the right. Simply run the following code, a graph will appear."
   ]
  },
  {
   "cell_type": "code",
   "execution_count": null,
   "id": "6aa2f232",
   "metadata": {},
   "outputs": [],
   "source": [
    "import matplotlib.pyplot as plt\n",
    "%matplotlib inline\n",
    "plt.plot(customer_score, logit)"
   ]
  }
 ],
 "metadata": {
  "kernelspec": {
   "display_name": "Python 3 (ipykernel)",
   "language": "python",
   "name": "python3"
  },
  "language_info": {
   "codemirror_mode": {
    "name": "ipython",
    "version": 3
   },
   "file_extension": ".py",
   "mimetype": "text/x-python",
   "name": "python",
   "nbconvert_exporter": "python",
   "pygments_lexer": "ipython3",
   "version": "3.9.12"
  }
 },
 "nbformat": 4,
 "nbformat_minor": 5
}
