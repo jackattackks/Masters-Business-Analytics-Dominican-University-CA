{
 "cells": [
  {
   "cell_type": "markdown",
   "id": "f482ca9f",
   "metadata": {},
   "source": [
    "### Problem 4 (4 point)\n",
    "\n",
    "1. You are given a class Dog, and a file dogs.txt.  Read the data from dogs.txt.  \n",
    "\n",
    "2. Split each line using '\\t' into a list of the fields.  Import the file and populate the class Dog.\n",
    "\n",
    "3. Write code to calculate the average weight of the dogs in the data set dogs.txt"
   ]
  },
  {
   "cell_type": "code",
   "execution_count": 1,
   "id": "9f08caa8",
   "metadata": {},
   "outputs": [],
   "source": [
    "class Dog:\n",
    "    def __init__(self,name, species, age, weight, owner):\n",
    "        self.name = name\n",
    "        self.species = species\n",
    "        self.age = age\n",
    "        self.weight = weight\n",
    "        self.owner = owner\n",
    "    def setAge(self, age):\n",
    "        self.age = age\n",
    "    def setWeight(self, weight):\n",
    "        self.weight = weight\n",
    "    def getName(self):\n",
    "        return self.name\n",
    "    def getSpecies(self):\n",
    "        return self.species\n",
    "    def getOwner(self):\n",
    "        return self.owner\n",
    "    def getAge(self):\n",
    "        return self.age\n",
    "    def getWeight(self):\n",
    "        return self.weight\n"
   ]
  },
  {
   "cell_type": "code",
   "execution_count": 2,
   "id": "023b3832",
   "metadata": {},
   "outputs": [
    {
     "data": {
      "text/plain": [
       "4"
      ]
     },
     "execution_count": 2,
     "metadata": {},
     "output_type": "execute_result"
    }
   ],
   "source": [
    "#test the class\n",
    "dog1 = Dog(\"bijou\", \"poodle\", 4, 50, \"pat\")\n",
    "dog1.getWeight()\n",
    "dog1.getSpecies()\n",
    "dog1.getAge()"
   ]
  },
  {
   "cell_type": "code",
   "execution_count": 7,
   "id": "24a19ee0",
   "metadata": {},
   "outputs": [
    {
     "data": {
      "text/plain": [
       "[['ray', 'labrador', '10', '90', 'lucy\\n'],\n",
       " ['jammie', 'welsh corgi', '5', '20', 'bob\\n'],\n",
       " ['bijou', 'poodle', '4', '30', 'pat\\n'],\n",
       " ['pip', 'korean jindo', '7', '40', 'gilbert\\n'],\n",
       " ['huluwa', 'whippet', '2', '30', 'xiao']]"
      ]
     },
     "execution_count": 7,
     "metadata": {},
     "output_type": "execute_result"
    }
   ],
   "source": [
    "# write code here to populate the Dog class with data in dogs.txt\n",
    "# Use a for loop and each row is a list.  \n",
    "# Skip the first row which has the field names.\n",
    "# Use index for each element as input of the Dog constructor.\n",
    "# For example, element[0] is the first element, element[1] is the second element, etc.\n",
    "\n",
    "def loadDog():\n",
    "    filehdle = open(\"/Users/Jackie/Desktop/Masters-Business-Analytics-Dominican-University-CA/MSBA5501-Programming-for-Data-Analytics/midterm/files/dogs.txt\", \"r\")\n",
    "    next(filehdle) #skips first line\n",
    "    mydataset = [] # split the lines on tabs \"\\t\"\n",
    "    import re\n",
    "    for myline in filehdle:\n",
    "        mydataset.append(re.split(\"\\t\",myline))\n",
    "    return mydataset\n",
    "\n",
    "#loads all data by executing loadDog which was set to runLoadDog\n",
    "runLoadDog = loadDog()\n",
    "runLoadDog"
   ]
  },
  {
   "cell_type": "code",
   "execution_count": 8,
   "id": "00138ee3",
   "metadata": {},
   "outputs": [],
   "source": [
    "dogsList = dict()\n",
    "\n",
    "# create the instances of dog\n",
    "for i in range(0,len(runLoadDog)):\n",
    "    runDog = runLoadDog[i]\n",
    "    dogsList[(runDog[0])] = Dog((runDog[0]), runDog[1], runDog[2],\\\n",
    "                                runDog[3],runDog[4])   \n",
    "# dogsList is a dictionary now due to the above"
   ]
  },
  {
   "cell_type": "code",
   "execution_count": 9,
   "id": "ce6eada1",
   "metadata": {},
   "outputs": [],
   "source": [
    "def avg():\n",
    "    # below: takes in weight as str and converts them to integers\n",
    "    app = []\n",
    "    for i in dogsList.keys():\n",
    "            new = dogsList[i].getWeight()\n",
    "            newer = int(new)\n",
    "            app.append(newer)\n",
    "# below: returns the average of all the weights    \n",
    "    return sum(app)/len(runLoadDog)"
   ]
  },
  {
   "cell_type": "code",
   "execution_count": 10,
   "id": "90220e85",
   "metadata": {},
   "outputs": [
    {
     "data": {
      "text/plain": [
       "42.0"
      ]
     },
     "execution_count": 10,
     "metadata": {},
     "output_type": "execute_result"
    }
   ],
   "source": [
    "# executes finding the average\n",
    "avg()"
   ]
  }
 ],
 "metadata": {
  "kernelspec": {
   "display_name": "Python 3 (ipykernel)",
   "language": "python",
   "name": "python3"
  },
  "language_info": {
   "codemirror_mode": {
    "name": "ipython",
    "version": 3
   },
   "file_extension": ".py",
   "mimetype": "text/x-python",
   "name": "python",
   "nbconvert_exporter": "python",
   "pygments_lexer": "ipython3",
   "version": "3.9.12"
  }
 },
 "nbformat": 4,
 "nbformat_minor": 5
}
