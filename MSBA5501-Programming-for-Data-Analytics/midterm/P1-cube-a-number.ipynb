{
 "cells": [
  {
   "cell_type": "markdown",
   "id": "26f0995c",
   "metadata": {},
   "source": [
    "### Problem 1 (10 point) \n",
    "\n",
    "1. Write a functon called cube, with an input number, calculating the third power (cube) of input number and return the result. \n",
    "\n",
    "2. Use the function to calculate the third power of 2 and 3."
   ]
  },
  {
   "cell_type": "code",
   "execution_count": null,
   "id": "f674e8c8",
   "metadata": {},
   "outputs": [],
   "source": [
    "def cubePower(x):\n",
    "    return x**3"
   ]
  },
  {
   "cell_type": "code",
   "execution_count": null,
   "id": "efcfcc94",
   "metadata": {},
   "outputs": [],
   "source": [
    "# use the function cube to calculate the cube of 2 and 3 here\n",
    "cubePower(2)"
   ]
  },
  {
   "cell_type": "code",
   "execution_count": null,
   "id": "07c085fa",
   "metadata": {},
   "outputs": [],
   "source": [
    "cubePower(3)"
   ]
  }
 ],
 "metadata": {
  "kernelspec": {
   "display_name": "Python 3 (ipykernel)",
   "language": "python",
   "name": "python3"
  },
  "language_info": {
   "codemirror_mode": {
    "name": "ipython",
    "version": 3
   },
   "file_extension": ".py",
   "mimetype": "text/x-python",
   "name": "python",
   "nbconvert_exporter": "python",
   "pygments_lexer": "ipython3",
   "version": "3.9.12"
  }
 },
 "nbformat": 4,
 "nbformat_minor": 5
}
