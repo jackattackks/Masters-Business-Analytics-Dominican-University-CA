{
 "cells": [
  {
   "cell_type": "markdown",
   "id": "9e601390",
   "metadata": {},
   "source": [
    "### Problem 5 (6 point)\n",
    "\n",
    "1. Write a class Car with a constructure \\_\\_init\\_\\_(self, brand, model, horsepower, price).  Wrtie methods to get brand, get model, get horsepower, get price.  Write a method to set the price.  Write a method to set the inventory."
   ]
  },
  {
   "cell_type": "code",
   "execution_count": null,
   "id": "344ef92f",
   "metadata": {},
   "outputs": [],
   "source": [
    "# Write the Car class code here\n",
    "\n",
    "class Car:\n",
    "    def __init__(self,brand,model,horsepower,price):\n",
    "        self.brand = brand\n",
    "        self.model = model\n",
    "        self.horsepower = horsepower\n",
    "        self.price = price\n",
    "    \n",
    "    def setPrice(self,carPrice):\n",
    "        self.price = carPrice\n",
    "    \n",
    "    def setInventory(inventory):\n",
    "        invent = inventory\n",
    "        \n",
    "    def getBrand(self):\n",
    "        return self.brand\n",
    "    \n",
    "    def getHorsepower(self):\n",
    "        return self.horsepower\n",
    "    \n",
    "    def getPrice(self):\n",
    "        return self.price"
   ]
  },
  {
   "cell_type": "code",
   "execution_count": null,
   "id": "cca5e5bd",
   "metadata": {},
   "outputs": [],
   "source": [
    "car1 = Car(\"Accura\", \"MDX\", 290, 42000)  # This code should run \n",
    "print(car1.getBrand())\n",
    "print(car1.getHorsepower())\n",
    "print(car1.getPrice())"
   ]
  },
  {
   "cell_type": "code",
   "execution_count": null,
   "id": "40e93f5a",
   "metadata": {},
   "outputs": [],
   "source": [
    "car2 = Car(\"Lexus\", \"ES300\", 215, 38000)  # This code should run \n",
    "print(car2.getBrand())\n",
    "print(car2.getHorsepower())\n",
    "print(car2.getPrice())"
   ]
  }
 ],
 "metadata": {
  "kernelspec": {
   "display_name": "Python 3 (ipykernel)",
   "language": "python",
   "name": "python3"
  },
  "language_info": {
   "codemirror_mode": {
    "name": "ipython",
    "version": 3
   },
   "file_extension": ".py",
   "mimetype": "text/x-python",
   "name": "python",
   "nbconvert_exporter": "python",
   "pygments_lexer": "ipython3",
   "version": "3.9.12"
  }
 },
 "nbformat": 4,
 "nbformat_minor": 5
}
