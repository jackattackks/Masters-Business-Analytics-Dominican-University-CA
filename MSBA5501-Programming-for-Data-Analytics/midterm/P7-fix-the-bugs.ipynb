{
 "cells": [
  {
   "cell_type": "markdown",
   "id": "4b8275fe",
   "metadata": {},
   "source": [
    "### Problem 7 Bonus Credit (10 point)\n",
    "\n",
    "The code below has some bugs, correct them so that it runs correctly."
   ]
  },
  {
   "cell_type": "code",
   "execution_count": 6,
   "id": "5bb535d0",
   "metadata": {},
   "outputs": [],
   "source": [
    "# BROKEN CODE\n",
    "# customers = [\"Leo\",\"Ming\",\"Lars\",\"April\",\"Ali\",\"Rich\"]\n",
    "\n",
    "# def findName(customers, customer1):\n",
    "#     global customers\n",
    "#     for customer in customers:\n",
    "#         if customer = customer1:\n",
    "#             return True\n",
    "#     return False"
   ]
  },
  {
   "cell_type": "code",
   "execution_count": 7,
   "id": "3d616676",
   "metadata": {},
   "outputs": [],
   "source": [
    "#fixed code\n",
    "customers = [\"Leo\",\"Ming\",\"Lars\",\"April\",\"Ali\",\"Rich\"]\n",
    "\n",
    "def findName(customer, customer1):\n",
    "    global customers\n",
    "    for customer in customers:\n",
    "        if customer == customer1:\n",
    "            return True\n",
    "    return False"
   ]
  },
  {
   "cell_type": "code",
   "execution_count": 8,
   "id": "144af039",
   "metadata": {},
   "outputs": [
    {
     "data": {
      "text/plain": [
       "True"
      ]
     },
     "execution_count": 8,
     "metadata": {},
     "output_type": "execute_result"
    }
   ],
   "source": [
    "findName(customers, \"Lars\")"
   ]
  },
  {
   "cell_type": "code",
   "execution_count": 9,
   "id": "f4fddd02",
   "metadata": {},
   "outputs": [
    {
     "data": {
      "text/plain": [
       "False"
      ]
     },
     "execution_count": 9,
     "metadata": {},
     "output_type": "execute_result"
    }
   ],
   "source": [
    "findName(customers, \"Liz\")"
   ]
  },
  {
   "cell_type": "code",
   "execution_count": null,
   "id": "43b3f307",
   "metadata": {},
   "outputs": [],
   "source": []
  }
 ],
 "metadata": {
  "kernelspec": {
   "display_name": "Python 3 (ipykernel)",
   "language": "python",
   "name": "python3"
  },
  "language_info": {
   "codemirror_mode": {
    "name": "ipython",
    "version": 3
   },
   "file_extension": ".py",
   "mimetype": "text/x-python",
   "name": "python",
   "nbconvert_exporter": "python",
   "pygments_lexer": "ipython3",
   "version": "3.9.12"
  }
 },
 "nbformat": 4,
 "nbformat_minor": 5
}
