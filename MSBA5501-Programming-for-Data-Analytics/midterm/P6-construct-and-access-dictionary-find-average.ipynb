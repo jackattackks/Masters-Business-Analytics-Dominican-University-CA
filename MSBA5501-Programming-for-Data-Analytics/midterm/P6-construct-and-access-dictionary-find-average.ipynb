{
 "cells": [
  {
   "cell_type": "markdown",
   "id": "99be6acc",
   "metadata": {},
   "source": [
    "### Problem 6 Bonus Credit (10 point)\n",
    "\n",
    "Write a dictionary for a group of patients by their ids and their cholesterol level.\n",
    "\n",
    "patient1 id = 1, cholesterol level 230;\n",
    "patient2 id = 2, cholesterol level 330;\n",
    "patient3 id = 3, cholesterol level 380;\n",
    "patient4 id = 4, cholesterol level 210;\n",
    "patient5 id = 5, cholesterol level 295;\n",
    "patient6 id = 6, cholesterol level 305;\n",
    "\n",
    "Put the data in the dictionary with ids as keys and cholestoral levels as values.\n",
    "\n",
    "Use a for loop to iterate over the patients and calculate the average cholesterol level for the group."
   ]
  },
  {
   "cell_type": "code",
   "execution_count": null,
   "id": "9db251e1",
   "metadata": {},
   "outputs": [],
   "source": [
    "# write code here to construct the dictionary\n",
    "patientDict = dict()\n",
    "patientDict[1] = 230\n",
    "patientDict[2] = 330\n",
    "patientDict[3] = 380\n",
    "patientDict[4] = 210\n",
    "patientDict[5] = 295\n",
    "patientDict[6] = 305"
   ]
  },
  {
   "cell_type": "code",
   "execution_count": null,
   "id": "69834398",
   "metadata": {},
   "outputs": [],
   "source": [
    "# Write code here to iterate and calculate the average cholestorel level\n",
    "avg = []\n",
    "for i in patientDict:\n",
    "     avg.append(patientDict[i])\n",
    "print(sum(avg)/len(patientDict))"
   ]
  }
 ],
 "metadata": {
  "kernelspec": {
   "display_name": "Python 3 (ipykernel)",
   "language": "python",
   "name": "python3"
  },
  "language_info": {
   "codemirror_mode": {
    "name": "ipython",
    "version": 3
   },
   "file_extension": ".py",
   "mimetype": "text/x-python",
   "name": "python",
   "nbconvert_exporter": "python",
   "pygments_lexer": "ipython3",
   "version": "3.9.12"
  }
 },
 "nbformat": 4,
 "nbformat_minor": 5
}
