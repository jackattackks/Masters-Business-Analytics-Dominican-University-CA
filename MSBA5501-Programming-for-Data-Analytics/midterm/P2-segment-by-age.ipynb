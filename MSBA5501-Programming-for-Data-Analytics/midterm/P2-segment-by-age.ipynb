{
 "cells": [
  {
   "cell_type": "markdown",
   "id": "35d1239e",
   "metadata": {},
   "source": [
    "### Problem 2 (10 point) \n",
    "\n",
    "1. Write a functon called segment, with an input age, segmenting the age into groups based on age.\n",
    "\n",
    "If the age is less than 13 the segment is assigned to be \"child\"\n",
    "\n",
    "Else If the age is between 13 and 19, the segment is \"teenager\"\n",
    "\n",
    "Else If the age is 20 or older but below 30, the segment is \"young adult\"\n",
    "\n",
    "Elsef If the age is 30 or older but below 62, the segment is \"adult\"\n",
    "\n",
    "Else the age is 62 or older, the segment is \"senior\"\n",
    "\n",
    "return the segment result\n",
    "\n",
    "2. Assign the segment of a group of customers, age 13, 23, 35, 62 to get the result of \"teenager\", \"young adult\", \"adult\", \"senior\"\n",
    "\n",
    "3. Use list to calculate for a list of customers with age 10, 13, 15, 18, 23, 35, 44, 62, 75, 88"
   ]
  },
  {
   "cell_type": "code",
   "execution_count": 1,
   "id": "32cabf99",
   "metadata": {},
   "outputs": [],
   "source": [
    "# code the fucntion here\n",
    "def segment(age):\n",
    "    if age < 13:\n",
    "        print(\"child\")\n",
    "    elif age >= 13 and age <= 19:\n",
    "        print(\"teenager\")\n",
    "    elif age >= 20 and age < 30:\n",
    "        print(\"young adult\")\n",
    "    elif age >= 30 and age < 62:\n",
    "        print(\"adult\")\n",
    "    else:\n",
    "        print(\"senior\")"
   ]
  },
  {
   "cell_type": "code",
   "execution_count": 2,
   "id": "301471eb",
   "metadata": {},
   "outputs": [
    {
     "name": "stdout",
     "output_type": "stream",
     "text": [
      "teenager\n",
      "young adult\n",
      "adult\n",
      "senior\n"
     ]
    }
   ],
   "source": [
    "# use segment to calculate segment for age 13, 23, 35, 62 here\n",
    "segment(13)\n",
    "segment(23)\n",
    "segment(35)\n",
    "segment(62)"
   ]
  },
  {
   "cell_type": "code",
   "execution_count": 3,
   "id": "fee27bd7",
   "metadata": {},
   "outputs": [
    {
     "name": "stdout",
     "output_type": "stream",
     "text": [
      "child\n",
      "teenager\n",
      "teenager\n",
      "teenager\n",
      "young adult\n",
      "adult\n",
      "adult\n",
      "senior\n",
      "senior\n",
      "senior\n"
     ]
    }
   ],
   "source": [
    "# create a list and calculate segment for each age of the list of customers and \n",
    "# with age 10, 13, 15, 18, 23, 35, 44, 62, 75, 88\n",
    "ageList = (10,13,15,18,23,35,44,62,75,88)\n",
    "for age in ageList:\n",
    "    segment(age)"
   ]
  },
  {
   "cell_type": "code",
   "execution_count": null,
   "id": "be3c23e5",
   "metadata": {},
   "outputs": [],
   "source": []
  }
 ],
 "metadata": {
  "kernelspec": {
   "display_name": "Python 3 (ipykernel)",
   "language": "python",
   "name": "python3"
  },
  "language_info": {
   "codemirror_mode": {
    "name": "ipython",
    "version": 3
   },
   "file_extension": ".py",
   "mimetype": "text/x-python",
   "name": "python",
   "nbconvert_exporter": "python",
   "pygments_lexer": "ipython3",
   "version": "3.9.12"
  }
 },
 "nbformat": 4,
 "nbformat_minor": 5
}
