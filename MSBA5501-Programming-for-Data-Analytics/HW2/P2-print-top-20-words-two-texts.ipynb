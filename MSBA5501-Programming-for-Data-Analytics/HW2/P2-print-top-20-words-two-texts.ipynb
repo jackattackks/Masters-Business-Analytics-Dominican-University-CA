{
 "cells": [
  {
   "cell_type": "markdown",
   "id": "62e17fab",
   "metadata": {},
   "source": [
    "### Problem 2\n",
    "\n",
    "Find the Gettsburg Address Top 20 Words, after removing the stop words.\n",
    "\n",
    "Use procedures on global list, set and dictionary variables."
   ]
  },
  {
   "cell_type": "code",
   "execution_count": 1,
   "id": "17d2398e",
   "metadata": {},
   "outputs": [],
   "source": [
    "gettysburg = \"Four score and seven years ago our fathers brought forth on this continent, a new nation, \\\n",
    "conceived in Liberty, and dedicated to the proposition that all men are created equal. Now we are engaged \\\n",
    "in a great civil war, testing whether that nation, or any nation so conceived and so dedicated, can long \\\n",
    "endure. We are met on a great battle-field of that war. We have come to dedicate a portion of that field, \\\n",
    "as a final resting place for those who here gave their lives that that nation might live. It is altogether \\\n",
    "fitting and proper that we should do this. But, in a larger sense, we can not dedicate -- \\\n",
    "we can not consecrate -- we can not hallow -- this ground. The brave men, living and dead, who \\\n",
    "struggled here, have consecrated it, far above our poor power to add or detract. The world will \\\n",
    "little note, nor long remember what we say here, but it can never forget what they did here. It is for \\\n",
    "us the living, rather, to be dedicated here to the unfinished work which they who fought here have thus \\\n",
    "far so nobly advanced. It is rather for us to be here dedicated to the great task remaining before us -- \\\n",
    "that from these honored dead we take increased devotion to that cause for which they gave the last full \\\n",
    "measure of devotion -- that we here highly resolve that these dead shall not have died in vain -- that \\\n",
    "this nation, under God, shall have a new birth of freedom -- and that government of the people, by the \\\n",
    "people, for the people, shall not perish from the earth. \\\n",
    "Abraham Lincoln \\\n",
    "November 19, 1863\""
   ]
  },
  {
   "cell_type": "code",
   "execution_count": 2,
   "id": "a0300de6",
   "metadata": {},
   "outputs": [
    {
     "data": {
      "text/plain": [
       "'Four score and seven years ago our fathers brought forth on this continent, a new nation, conceived in Liberty, and dedicated to the proposition that all men are created equal. Now we are engaged in a great civil war, testing whether that nation, or any nation so conceived and so dedicated, can long endure. We are met on a great battle-field of that war. We have come to dedicate a portion of that field, as a final resting place for those who here gave their lives that that nation might live. It is altogether fitting and proper that we should do this. But, in a larger sense, we can not dedicate -- we can not consecrate -- we can not hallow -- this ground. The brave men, living and dead, who struggled here, have consecrated it, far above our poor power to add or detract. The world will little note, nor long remember what we say here, but it can never forget what they did here. It is for us the living, rather, to be dedicated here to the unfinished work which they who fought here have thus far so nobly advanced. It is rather for us to be here dedicated to the great task remaining before us -- that from these honored dead we take increased devotion to that cause for which they gave the last full measure of devotion -- that we here highly resolve that these dead shall not have died in vain -- that this nation, under God, shall have a new birth of freedom -- and that government of the people, by the people, for the people, shall not perish from the earth. Abraham Lincoln November 19, 1863'"
      ]
     },
     "execution_count": 2,
     "metadata": {},
     "output_type": "execute_result"
    }
   ],
   "source": [
    " gettysburg"
   ]
  },
  {
   "cell_type": "code",
   "execution_count": 3,
   "id": "b744ae8f",
   "metadata": {},
   "outputs": [],
   "source": [
    "kennedy_inaugural=\"Vice President Johnson, Mr. Speaker, Mr. Chief Justice, President Eisenhower, Vice President Nixon, President Truman, Reverend Clergy, fellow citizens: \\\n",
    "We observe today not a victory of party but a celebration of freedom--symbolizing an end as well as a beginning--signifying renewal as well as change. For I have sworn before you and Almighty God the same solemn oath our forbears prescribed nearly a century and three-quarters ago.\\\n",
    "The world is very different now. For man holds in his mortal hands the power to abolish all forms of human poverty and all forms of human life. And yet the same revolutionary beliefs for which our forebears fought are still at issue around the globe--the belief that the rights of man come not from the generosity of the state but from the hand of God.\\\n",
    "We dare not forget today that we are the heirs of that first revolution. Let the word go forth from this time and place, to friend and foe alike, that the torch has been passed to a new generation of Americans--born in this century, tempered by war, disciplined by a hard and bitter peace, proud of our ancient heritage--and unwilling to witness or permit the slow undoing of those human rights to which this nation has always been committed, and to which we are committed today at home and around the world.\\\n",
    "Let every nation know, whether it wishes us well or ill, that we shall pay any price, bear any burden, meet any hardship, support any friend, oppose any foe to assure the survival and the success of liberty.\\\n",
    "This much we pledge--and more.\\\n",
    "To those old allies whose cultural and spiritual origins we share, we pledge the loyalty of faithful friends. United there is little we cannot do in a host of cooperative ventures. Divided there is little we can do--for we dare not meet a powerful challenge at odds and split asunder.\\\n",
    "To those new states whom we welcome to the ranks of the free, we pledge our word that one form of colonial control shall not have passed away merely to be replaced by a far more iron tyranny. We shall not always expect to find them supporting our view. But we shall always hope to find them strongly supporting their own freedom--and to remember that, in the past, those who foolishly sought power by riding the back of the tiger ended up inside.\\\n",
    "To those people in the huts and villages of half the globe struggling to break the bonds of mass misery, we pledge our best efforts to help them help themselves, for whatever period is required--not because the communists may be doing it, not because we seek their votes, but because it is right. If a free society cannot help the many who are poor, it cannot save the few who are rich.\\\n",
    "To our sister republics south of our border, we offer a special pledge--to convert our good words into good deeds--in a new alliance for progress--to assist free men and free governments in casting off the chains of poverty. But this peaceful revolution of hope cannot become the prey of hostile powers. Let all our neighbors know that we shall join with them to oppose aggression or subversion anywhere in the Americas. And let every other power know that this Hemisphere intends to remain the master of its own house.\\\n",
    "To that world assembly of sovereign states, the United Nations, our last best hope in an age where the instruments of war have far outpaced the instruments of peace, we renew our pledge of support--to prevent it from becoming merely a forum for invective--to strengthen its shield of the new and the weak--and to enlarge the area in which its writ may run.\\\n",
    "Finally, to those nations who would make themselves our adversary, we offer not a pledge but a request: that both sides begin anew the quest for peace, before the dark powers of destruction unleashed by science engulf all humanity in planned or accidental self-destruction.\\\n",
    "We dare not tempt them with weakness. For only when our arms are sufficient beyond doubt can we be certain beyond doubt that they will never be employed.\\\n",
    "But neither can two great and powerful groups of nations take comfort from our present course--both sides overburdened by the cost of modern weapons, both rightly alarmed by the steady spread of the deadly atom, yet both racing to alter that uncertain balance of terror that stays the hand of mankind's final war.\\\n",
    "So let us begin anew--remembering on both sides that civility is not a sign of weakness, and sincerity is always subject to proof. Let us never negotiate out of fear. But let us never fear to negotiate.\\\n",
    "Let both sides explore what problems unite us instead of belaboring those problems which divide us.\\\n",
    "Let both sides, for the first time, formulate serious and precise proposals for the inspection and control of arms--and bring the absolute power to destroy other nations under the absolute control of all nations.\\\n",
    "Let both sides seek to invoke the wonders of science instead of its terrors. Together let us explore the stars, conquer the deserts, eradicate disease, tap the ocean depths and encourage the arts and commerce.\\\n",
    "Let both sides unite to heed in all corners of the earth the command of Isaiah--to 'undo the heavy burdens . . . (and) let the oppressed go free.'\\\n",
    "And if a beachhead of cooperation may push back the jungle of suspicion, let both sides join in creating a new endeavor, not a new balance of power,\\\n",
    "but a new world of law, where the strong are just and the weak secure and the peace preserved.\\\n",
    "All this will not be finished in the first one hundred days. Nor will it be finished in the first one thousand days, nor in the life of this Administration, nor even perhaps in our lifetime on this planet. But let us begin.\\\n",
    "In your hands, my fellow citizens, more than mine, will rest the final success or failure of our course. Since this country was founded, each generation of Americans has been summoned to give testimony to its national loyalty. The graves of young Americans who answered the call to service surround the globe.\\\n",
    "Now the trumpet summons us again--not as a call to bear arms, though arms we need--not as a call to battle, though embattled we are-- but a call to bear the burden of a long twilight struggle, year in and year out, 'rejoicing in hope, patient in tribulation'--a struggle against the common enemies of man: tyranny, poverty, disease and war itself.\\\n",
    "Can we forge against these enemies a grand and global alliance, North and South, East and West, that can assure a more fruitful life for all mankind? Will you join in that historic effort?\\\n",
    "In the long history of the world, only a few generations have been granted the role of defending freedom in its hour of maximum danger. I do not shrink from this responsibility--I welcome it. I do not believe that any of us would exchange places with any other people or any other generation. The energy, the faith, the devotion which we bring to this endeavor will light our country and all who serve it--and the glow from that fire can truly light the world.\\\n",
    "And so, my fellow Americans: ask not what your country can do for you--ask what you can do for your country.\\\n",
    "My fellow citizens of the world: ask not what America will do for you, but what together we can do for the freedom of man.\\\n",
    "Finally, whether you are citizens of America or citizens of the world, ask of us here the same high standards of strength and sacrifice which we ask of you. With a good conscience our only sure reward, with history the final judge of our deeds, let us go forth to lead the land we love, asking His blessing and His help, but knowing that here on earth God's work must truly be our own.\""
   ]
  },
  {
   "cell_type": "code",
   "execution_count": 4,
   "id": "0e2f293a",
   "metadata": {},
   "outputs": [
    {
     "data": {
      "text/plain": [
       "\"Vice President Johnson, Mr. Speaker, Mr. Chief Justice, President Eisenhower, Vice President Nixon, President Truman, Reverend Clergy, fellow citizens: We observe today not a victory of party but a celebration of freedom--symbolizing an end as well as a beginning--signifying renewal as well as change. For I have sworn before you and Almighty God the same solemn oath our forbears prescribed nearly a century and three-quarters ago.The world is very different now. For man holds in his mortal hands the power to abolish all forms of human poverty and all forms of human life. And yet the same revolutionary beliefs for which our forebears fought are still at issue around the globe--the belief that the rights of man come not from the generosity of the state but from the hand of God.We dare not forget today that we are the heirs of that first revolution. Let the word go forth from this time and place, to friend and foe alike, that the torch has been passed to a new generation of Americans--born in this century, tempered by war, disciplined by a hard and bitter peace, proud of our ancient heritage--and unwilling to witness or permit the slow undoing of those human rights to which this nation has always been committed, and to which we are committed today at home and around the world.Let every nation know, whether it wishes us well or ill, that we shall pay any price, bear any burden, meet any hardship, support any friend, oppose any foe to assure the survival and the success of liberty.This much we pledge--and more.To those old allies whose cultural and spiritual origins we share, we pledge the loyalty of faithful friends. United there is little we cannot do in a host of cooperative ventures. Divided there is little we can do--for we dare not meet a powerful challenge at odds and split asunder.To those new states whom we welcome to the ranks of the free, we pledge our word that one form of colonial control shall not have passed away merely to be replaced by a far more iron tyranny. We shall not always expect to find them supporting our view. But we shall always hope to find them strongly supporting their own freedom--and to remember that, in the past, those who foolishly sought power by riding the back of the tiger ended up inside.To those people in the huts and villages of half the globe struggling to break the bonds of mass misery, we pledge our best efforts to help them help themselves, for whatever period is required--not because the communists may be doing it, not because we seek their votes, but because it is right. If a free society cannot help the many who are poor, it cannot save the few who are rich.To our sister republics south of our border, we offer a special pledge--to convert our good words into good deeds--in a new alliance for progress--to assist free men and free governments in casting off the chains of poverty. But this peaceful revolution of hope cannot become the prey of hostile powers. Let all our neighbors know that we shall join with them to oppose aggression or subversion anywhere in the Americas. And let every other power know that this Hemisphere intends to remain the master of its own house.To that world assembly of sovereign states, the United Nations, our last best hope in an age where the instruments of war have far outpaced the instruments of peace, we renew our pledge of support--to prevent it from becoming merely a forum for invective--to strengthen its shield of the new and the weak--and to enlarge the area in which its writ may run.Finally, to those nations who would make themselves our adversary, we offer not a pledge but a request: that both sides begin anew the quest for peace, before the dark powers of destruction unleashed by science engulf all humanity in planned or accidental self-destruction.We dare not tempt them with weakness. For only when our arms are sufficient beyond doubt can we be certain beyond doubt that they will never be employed.But neither can two great and powerful groups of nations take comfort from our present course--both sides overburdened by the cost of modern weapons, both rightly alarmed by the steady spread of the deadly atom, yet both racing to alter that uncertain balance of terror that stays the hand of mankind's final war.So let us begin anew--remembering on both sides that civility is not a sign of weakness, and sincerity is always subject to proof. Let us never negotiate out of fear. But let us never fear to negotiate.Let both sides explore what problems unite us instead of belaboring those problems which divide us.Let both sides, for the first time, formulate serious and precise proposals for the inspection and control of arms--and bring the absolute power to destroy other nations under the absolute control of all nations.Let both sides seek to invoke the wonders of science instead of its terrors. Together let us explore the stars, conquer the deserts, eradicate disease, tap the ocean depths and encourage the arts and commerce.Let both sides unite to heed in all corners of the earth the command of Isaiah--to 'undo the heavy burdens . . . (and) let the oppressed go free.'And if a beachhead of cooperation may push back the jungle of suspicion, let both sides join in creating a new endeavor, not a new balance of power,but a new world of law, where the strong are just and the weak secure and the peace preserved.All this will not be finished in the first one hundred days. Nor will it be finished in the first one thousand days, nor in the life of this Administration, nor even perhaps in our lifetime on this planet. But let us begin.In your hands, my fellow citizens, more than mine, will rest the final success or failure of our course. Since this country was founded, each generation of Americans has been summoned to give testimony to its national loyalty. The graves of young Americans who answered the call to service surround the globe.Now the trumpet summons us again--not as a call to bear arms, though arms we need--not as a call to battle, though embattled we are-- but a call to bear the burden of a long twilight struggle, year in and year out, 'rejoicing in hope, patient in tribulation'--a struggle against the common enemies of man: tyranny, poverty, disease and war itself.Can we forge against these enemies a grand and global alliance, North and South, East and West, that can assure a more fruitful life for all mankind? Will you join in that historic effort?In the long history of the world, only a few generations have been granted the role of defending freedom in its hour of maximum danger. I do not shrink from this responsibility--I welcome it. I do not believe that any of us would exchange places with any other people or any other generation. The energy, the faith, the devotion which we bring to this endeavor will light our country and all who serve it--and the glow from that fire can truly light the world.And so, my fellow Americans: ask not what your country can do for you--ask what you can do for your country.My fellow citizens of the world: ask not what America will do for you, but what together we can do for the freedom of man.Finally, whether you are citizens of America or citizens of the world, ask of us here the same high standards of strength and sacrifice which we ask of you. With a good conscience our only sure reward, with history the final judge of our deeds, let us go forth to lead the land we love, asking His blessing and His help, but knowing that here on earth God's work must truly be our own.\""
      ]
     },
     "execution_count": 4,
     "metadata": {},
     "output_type": "execute_result"
    }
   ],
   "source": [
    " kennedy_inaugural"
   ]
  },
  {
   "cell_type": "code",
   "execution_count": 14,
   "id": "25aac8f9",
   "metadata": {},
   "outputs": [],
   "source": [
    "stopwords = {\"a\", \"about\", \"above\", \"above\", \"across\", \"after\", \"afterwards\", \"again\", \"against\", \"all\",\\\n",
    "             \"almost\", \"alone\", \"along\", \"already\", \"also\",\"although\",\"always\",\"am\",\"among\", \"amongst\", \\\n",
    "             \"amoungst\", \"amount\",  \"an\", \"and\", \"another\", \"any\",\"anyhow\",\"anyone\",\"anything\",\"anyway\", \\\n",
    "             \"anywhere\", \"are\", \"around\", \"as\",  \"at\", \"back\",\"be\",\"became\", \"because\",\"become\",\"becomes\", \\\n",
    "             \"becoming\", \"been\", \"before\", \"beforehand\", \"behind\", \"being\", \"below\", \"beside\", \"besides\", \\\n",
    "             \"between\", \"beyond\", \"bill\", \"both\", \"bottom\",\"but\", \"by\", \"call\", \"can\", \"cannot\", \"cant\", \\\n",
    "             \"co\", \"con\", \"could\", \"couldnt\", \"cry\", \"de\", \"describe\", \"detail\", \"do\", \"done\", \"down\", \"due\", \\\n",
    "             \"during\", \"each\", \"eg\", \"eight\", \"either\", \"eleven\",\"else\", \"elsewhere\", \"empty\", \"enough\", \\\n",
    "             \"etc\", \"even\", \"ever\", \"every\", \"everyone\", \"everything\", \"everywhere\", \"except\", \"few\", \\\n",
    "             \"fifteen\", \"fify\", \"fill\", \"find\", \"fire\", \"first\", \"five\", \"for\", \"former\", \"formerly\", \\\n",
    "             \"forty\", \"found\", \"four\", \"from\", \"front\", \"full\", \"further\", \"get\", \"give\", \"go\", \"had\", \\\n",
    "             \"has\", \"hasnt\", \"have\", \"he\", \"hence\", \"her\", \"here\", \"hereafter\", \"hereby\", \"herein\", \\\n",
    "             \"hereupon\", \"hers\", \"herself\", \"him\", \"himself\", \"his\", \"how\", \"however\", \"hundred\", \"ie\", \\\n",
    "             \"if\", \"in\", \"inc\", \"indeed\", \"interest\", \"into\", \"is\", \"it\", \"its\", \"itself\", \"keep\", \"last\", \\\n",
    "             \"latter\", \"latterly\", \"least\", \"less\", \"ltd\", \"made\", \"many\", \"may\", \"me\", \"meanwhile\", \"might\", \\\n",
    "             \"mill\", \"mine\", \"more\", \"moreover\", \"most\", \"mostly\", \"move\", \"much\", \"must\", \"my\", \"myself\", \\\n",
    "             \"name\", \"namely\", \"neither\", \"never\", \"nevertheless\", \"next\", \"nine\", \"no\", \"nobody\", \"none\", \\\n",
    "             \"noone\", \"nor\", \"not\", \"nothing\", \"now\", \"nowhere\", \"of\", \"off\", \"often\", \"on\", \"once\", \"one\", \\\n",
    "             \"only\", \"onto\", \"or\", \"other\", \"others\", \"otherwise\", \"our\", \"ours\", \"ourselves\", \"out\", \"over\", \\\n",
    "             \"own\",\"part\", \"per\", \"perhaps\", \"please\", \"put\", \"rather\", \"re\", \"same\", \"see\", \"seem\", \"seemed\", \\\n",
    "             \"seeming\", \"seems\", \"serious\", \"several\", \"she\", \"should\", \"show\", \"side\", \"since\", \"sincere\", \\\n",
    "             \"six\", \"sixty\", \"so\", \"some\", \"somehow\", \"someone\", \"something\", \"sometime\", \"sometimes\", \\\n",
    "             \"somewhere\", \"still\", \"such\", \"system\", \"take\", \"ten\", \"than\", \"that\", \"the\", \"their\", \"them\",\\\n",
    "             \"themselves\", \"then\", \"thence\", \"there\", \"thereafter\", \"thereby\", \"therefore\", \"therein\", \\\n",
    "             \"thereupon\", \"these\", \"they\", \"thick\", \"thin\", \"third\", \"this\", \"those\", \"though\", \"three\", \\\n",
    "             \"through\", \"throughout\", \"thru\", \"thus\", \"to\", \"together\", \"too\", \"top\", \"toward\", \"towards\",\\\n",
    "             \"twelve\", \"twenty\", \"two\", \"un\", \"under\", \"until\", \"up\", \"upon\", \"us\", \"very\", \"via\", \"was\", \\\n",
    "             \"we\", \"well\", \"were\", \"what\", \"whatever\", \"when\", \"whence\", \"whenever\", \"where\", \"whereafter\", \\\n",
    "             \"whereas\", \"whereby\", \"wherein\", \"whereupon\", \"wherever\", \"whether\", \"which\", \"while\", \"whither\",\\\n",
    "             \"who\", \"whoever\", \"whole\", \"whom\", \"whose\", \"why\", \"will\", \"with\", \"within\", \"without\", \"would\", \\\n",
    "             \"yet\", \"you\", \"your\", \"yours\", \"yourself\", \"yourselves\", \"the\"}"
   ]
  },
  {
   "cell_type": "code",
   "execution_count": 15,
   "id": "b54c03dc",
   "metadata": {},
   "outputs": [],
   "source": [
    "def process(textdata):\n",
    "    # removing stop words, punctuations\n",
    "    import re\n",
    "    allwords = []\n",
    "    allwords.extend(re.split(\"\\,|\\s|\\?|\\&|\\\"|\\-\",textdata.strip().lower()))\n",
    "    return allwords"
   ]
  },
  {
   "cell_type": "code",
   "execution_count": 16,
   "id": "1af4818a",
   "metadata": {},
   "outputs": [],
   "source": [
    "allwords = process(gettysburg)"
   ]
  },
  {
   "cell_type": "code",
   "execution_count": 17,
   "id": "c4193727",
   "metadata": {},
   "outputs": [],
   "source": [
    "stemmingDict = {'men': 'man','dedicated':'dedicate','conceived':'conceive','years':'year','brought':'bring',\n",
    "           'created': 'create','engaged':'engage','testing':'test','met':'meet','consecrated':'consecrate',\n",
    "           'struggled':'struggle','fitting':'fit','did':'do','living':'live','fought':'fight',\n",
    "           'unfinished':'unfinish','increased':'increase','died':'die','remaining':'remain','honored':'honor',\n",
    "           'advanced':'advance','highly':'high','lives':'live','nobly':'noble','nations':'nation','sides':'side',\n",
    "           'citizens':'citizen','americans':'american','hands':'hand', 'committed':'commit', 'rights':'right',\n",
    "           'supporting':'support', 'ranks':'rank','faithful':'faith','friends':'friend','divided':'divide',\n",
    "           'enemies':'enemy','united':'unite','states':'state','problems':'problem','instruments':'instrument',\n",
    "           'finished':'finish', 'beginning':'begin','symbolizing':'symbolize','holds':'hold','prescribed':'prescribe',\n",
    "           'strongly':'strong','foolishly':'foolish', 'struggling':'struggle','required':'require','villages':'village',\n",
    "           'arms':'arm','powers':'power','deeds':'deed','disciplined':'discipline','republics':'republic',\n",
    "           'outpaced':'outpace','unleashed':'unleash','wishes':'wish','allies':'ally','origins':'origin',\n",
    "           'ventures':'venture','cultural':'culture','bonds':'bond','ended':'end','ends':'end','communists':'communist',\n",
    "           'passed':'pass','merely':'mere','signifying':'signify','beliefs':'belief','tempered':'temper',\n",
    "           'sought':'seek','riding':'ride','efforts':'effort','governments':'government','neighbors':'neighbor',\n",
    "           'employed':'employ','groups':'group','weapons':'weapon','remembering':'remember','stays':'stay',\n",
    "           'terrors':'terror','stars':'star','proposals':'proposal','wonders':'wonder','standards':'standard',\n",
    "           'blessing':'bless','asking':'ask', 'corners':'corner','oppressed':'oppress','generations':'generation',\n",
    "           'granted':'grant','days':'day','asks':'ask'}"
   ]
  },
  {
   "cell_type": "code",
   "execution_count": 18,
   "id": "1688a390",
   "metadata": {},
   "outputs": [
    {
     "data": {
      "text/plain": [
       "{'men': 'man',\n",
       " 'dedicated': 'dedicate',\n",
       " 'conceived': 'conceive',\n",
       " 'years': 'year',\n",
       " 'brought': 'bring',\n",
       " 'created': 'create',\n",
       " 'engaged': 'engage',\n",
       " 'testing': 'test',\n",
       " 'met': 'meet',\n",
       " 'consecrated': 'consecrate',\n",
       " 'struggled': 'struggle',\n",
       " 'fitting': 'fit',\n",
       " 'did': 'do',\n",
       " 'living': 'live',\n",
       " 'fought': 'fight',\n",
       " 'unfinished': 'unfinish',\n",
       " 'increased': 'increase',\n",
       " 'died': 'die',\n",
       " 'remaining': 'remain',\n",
       " 'honored': 'honor',\n",
       " 'advanced': 'advance',\n",
       " 'highly': 'high',\n",
       " 'lives': 'live',\n",
       " 'nobly': 'noble',\n",
       " 'nations': 'nation',\n",
       " 'sides': 'side',\n",
       " 'citizens': 'citizen',\n",
       " 'americans': 'american',\n",
       " 'hands': 'hand',\n",
       " 'committed': 'commit',\n",
       " 'rights': 'right',\n",
       " 'supporting': 'support',\n",
       " 'ranks': 'rank',\n",
       " 'faithful': 'faith',\n",
       " 'friends': 'friend',\n",
       " 'divided': 'divide',\n",
       " 'enemies': 'enemy',\n",
       " 'united': 'unite',\n",
       " 'states': 'state',\n",
       " 'problems': 'problem',\n",
       " 'instruments': 'instrument',\n",
       " 'finished': 'finish',\n",
       " 'beginning': 'begin',\n",
       " 'symbolizing': 'symbolize',\n",
       " 'holds': 'hold',\n",
       " 'prescribed': 'prescribe',\n",
       " 'strongly': 'strong',\n",
       " 'foolishly': 'foolish',\n",
       " 'struggling': 'struggle',\n",
       " 'required': 'require',\n",
       " 'villages': 'village',\n",
       " 'arms': 'arm',\n",
       " 'powers': 'power',\n",
       " 'deeds': 'deed',\n",
       " 'disciplined': 'discipline',\n",
       " 'republics': 'republic',\n",
       " 'outpaced': 'outpace',\n",
       " 'unleashed': 'unleash',\n",
       " 'wishes': 'wish',\n",
       " 'allies': 'ally',\n",
       " 'origins': 'origin',\n",
       " 'ventures': 'venture',\n",
       " 'cultural': 'culture',\n",
       " 'bonds': 'bond',\n",
       " 'ended': 'end',\n",
       " 'ends': 'end',\n",
       " 'communists': 'communist',\n",
       " 'passed': 'pass',\n",
       " 'merely': 'mere',\n",
       " 'signifying': 'signify',\n",
       " 'beliefs': 'belief',\n",
       " 'tempered': 'temper',\n",
       " 'sought': 'seek',\n",
       " 'riding': 'ride',\n",
       " 'efforts': 'effort',\n",
       " 'governments': 'government',\n",
       " 'neighbors': 'neighbor',\n",
       " 'employed': 'employ',\n",
       " 'groups': 'group',\n",
       " 'weapons': 'weapon',\n",
       " 'remembering': 'remember',\n",
       " 'stays': 'stay',\n",
       " 'terrors': 'terror',\n",
       " 'stars': 'star',\n",
       " 'proposals': 'proposal',\n",
       " 'wonders': 'wonder',\n",
       " 'standards': 'standard',\n",
       " 'blessing': 'bless',\n",
       " 'asking': 'ask',\n",
       " 'corners': 'corner',\n",
       " 'oppressed': 'oppress',\n",
       " 'generations': 'generation',\n",
       " 'granted': 'grant',\n",
       " 'days': 'day',\n",
       " 'asks': 'ask'}"
      ]
     },
     "execution_count": 18,
     "metadata": {},
     "output_type": "execute_result"
    }
   ],
   "source": [
    "stemmingDict"
   ]
  },
  {
   "cell_type": "code",
   "execution_count": 19,
   "id": "835562aa",
   "metadata": {},
   "outputs": [],
   "source": [
    "def stemming():\n",
    "    # Stemming converts words to remove plural, tense and other forms of the same words\n",
    "    # stemming using the above stemming dictionary. \n",
    "    #   We iterate over all words in text, and \n",
    "    #      if it is in stemming word dictionary, \n",
    "    #         convert the word to its value in the dictionary\n",
    "    # stemming using the stemming dictionary\n",
    "    global allwords\n",
    "    global stemmingDict\n",
    "    for i in range(len(allwords)):\n",
    "        if allwords[i] in stemmingDict:\n",
    "            allwords[i] = stemmingDict[allwords[i]]"
   ]
  },
  {
   "cell_type": "code",
   "execution_count": 20,
   "id": "a3f8e0e4",
   "metadata": {},
   "outputs": [
    {
     "name": "stdout",
     "output_type": "stream",
     "text": [
      "['four', 'score', 'and', 'seven', 'years', 'ago', 'our', 'fathers', 'brought', 'forth', 'on', 'this', 'continent', '', 'a', 'new', 'nation', '', 'conceived', 'in', 'liberty', '', 'and', 'dedicated', 'to', 'the', 'proposition', 'that', 'all', 'men', 'are', 'created', 'equal.', 'now', 'we', 'are', 'engaged', 'in', 'a', 'great', 'civil', 'war', '', 'testing', 'whether', 'that', 'nation', '', 'or', 'any', 'nation', 'so', 'conceived', 'and', 'so', 'dedicated', '', 'can', 'long', 'endure.', 'we', 'are', 'met', 'on', 'a', 'great', 'battle', 'field', 'of', 'that', 'war.', 'we', 'have', 'come', 'to', 'dedicate', 'a', 'portion', 'of', 'that', 'field', '', 'as', 'a', 'final', 'resting', 'place', 'for', 'those', 'who', 'here', 'gave', 'their', 'lives', 'that', 'that', 'nation', 'might', 'live.', 'it', 'is', 'altogether', 'fitting', 'and', 'proper', 'that', 'we', 'should', 'do', 'this.', 'but', '', 'in', 'a', 'larger', 'sense', '', 'we', 'can', 'not', 'dedicate', '', '', '', 'we', 'can', 'not', 'consecrate', '', '', '', 'we', 'can', 'not', 'hallow', '', '', '', 'this', 'ground.', 'the', 'brave', 'men', '', 'living', 'and', 'dead', '', 'who', 'struggled', 'here', '', 'have', 'consecrated', 'it', '', 'far', 'above', 'our', 'poor', 'power', 'to', 'add', 'or', 'detract.', 'the', 'world', 'will', 'little', 'note', '', 'nor', 'long', 'remember', 'what', 'we', 'say', 'here', '', 'but', 'it', 'can', 'never', 'forget', 'what', 'they', 'did', 'here.', 'it', 'is', 'for', 'us', 'the', 'living', '', 'rather', '', 'to', 'be', 'dedicated', 'here', 'to', 'the', 'unfinished', 'work', 'which', 'they', 'who', 'fought', 'here', 'have', 'thus', 'far', 'so', 'nobly', 'advanced.', 'it', 'is', 'rather', 'for', 'us', 'to', 'be', 'here', 'dedicated', 'to', 'the', 'great', 'task', 'remaining', 'before', 'us', '', '', '', 'that', 'from', 'these', 'honored', 'dead', 'we', 'take', 'increased', 'devotion', 'to', 'that', 'cause', 'for', 'which', 'they', 'gave', 'the', 'last', 'full', 'measure', 'of', 'devotion', '', '', '', 'that', 'we', 'here', 'highly', 'resolve', 'that', 'these', 'dead', 'shall', 'not', 'have', 'died', 'in', 'vain', '', '', '', 'that', 'this', 'nation', '', 'under', 'god', '', 'shall', 'have', 'a', 'new', 'birth', 'of', 'freedom', '', '', '', 'and', 'that', 'government', 'of', 'the', 'people', '', 'by', 'the', 'people', '', 'for', 'the', 'people', '', 'shall', 'not', 'perish', 'from', 'the', 'earth.', 'abraham', 'lincoln', 'november', '19', '', '1863']\n"
     ]
    }
   ],
   "source": [
    "print(allwords)\n",
    "stemming()"
   ]
  },
  {
   "cell_type": "code",
   "execution_count": 21,
   "id": "1180d1a1",
   "metadata": {},
   "outputs": [],
   "source": [
    "countWords = {}\n",
    "def countingWords():\n",
    "    # count words\n",
    "    # word word and count pairs in a dictionary\n",
    "    global allwords\n",
    "    global countwords\n",
    "    global stopwords\n",
    "    for word in allwords:\n",
    "        if word not in stopwords and word != '':\n",
    "            if word not in countWords:\n",
    "                countWords[word]=1\n",
    "            else:\n",
    "                count = countWords[word]\n",
    "                countWords[word] = count + 1\n",
    "                \n",
    "\n",
    "                \n",
    "def sortWord(count):\n",
    "    global countWords\n",
    "    sorted_count_words = sorted(countWords, key = lambda x: countWords[x], reverse =True)\n",
    "    for i in range(min(len(sorted_count_words),count)):\n",
    "        word = sorted_count_words[i]\n",
    "        print(word,countWords[word])"
   ]
  },
  {
   "cell_type": "markdown",
   "id": "998fd583",
   "metadata": {},
   "source": [
    "Print out top 20 words for both the Lincoln and Kennedy addresses"
   ]
  },
  {
   "cell_type": "code",
   "execution_count": 22,
   "id": "49a1b0d7",
   "metadata": {},
   "outputs": [
    {
     "name": "stdout",
     "output_type": "stream",
     "text": [
      "dedicate 6\n",
      "nation 5\n",
      "great 3\n",
      "live 3\n",
      "dead 3\n",
      "shall 3\n",
      "people 3\n",
      "new 2\n",
      "conceive 2\n",
      "man 2\n",
      "long 2\n",
      "field 2\n",
      "gave 2\n",
      "consecrate 2\n",
      "far 2\n",
      "devotion 2\n",
      "score 1\n",
      "seven 1\n",
      "year 1\n",
      "ago 1\n",
      "fathers 1\n",
      "bring 1\n",
      "forth 1\n",
      "continent 1\n",
      "liberty 1\n",
      "proposition 1\n",
      "create 1\n",
      "equal. 1\n",
      "engage 1\n",
      "civil 1\n",
      "war 1\n",
      "test 1\n",
      "endure. 1\n",
      "meet 1\n",
      "battle 1\n",
      "war. 1\n",
      "come 1\n",
      "portion 1\n",
      "final 1\n",
      "resting 1\n"
     ]
    }
   ],
   "source": [
    "countWords = {}\n",
    "countingWords()\n",
    "sortWord(40)"
   ]
  },
  {
   "cell_type": "code",
   "execution_count": null,
   "id": "4c54f7ec",
   "metadata": {},
   "outputs": [],
   "source": []
  },
  {
   "cell_type": "code",
   "execution_count": null,
   "id": "0f9ea395",
   "metadata": {},
   "outputs": [],
   "source": []
  }
 ],
 "metadata": {
  "kernelspec": {
   "display_name": "Python 3 (ipykernel)",
   "language": "python",
   "name": "python3"
  },
  "language_info": {
   "codemirror_mode": {
    "name": "ipython",
    "version": 3
   },
   "file_extension": ".py",
   "mimetype": "text/x-python",
   "name": "python",
   "nbconvert_exporter": "python",
   "pygments_lexer": "ipython3",
   "version": "3.9.12"
  }
 },
 "nbformat": 4,
 "nbformat_minor": 5
}
